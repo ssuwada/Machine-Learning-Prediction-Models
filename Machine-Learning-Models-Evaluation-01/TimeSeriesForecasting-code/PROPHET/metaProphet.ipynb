{
 "cells": [
  {
   "cell_type": "markdown",
   "metadata": {},
   "source": [
    "IMPORT ALL  "
   ]
  },
  {
   "cell_type": "code",
   "execution_count": 1,
   "metadata": {},
   "outputs": [
    {
     "name": "stderr",
     "output_type": "stream",
     "text": [
      "Importing plotly failed. Interactive plots will not work.\n"
     ]
    }
   ],
   "source": [
    "#   ---------  Project Forecast evaluation  ---------\n",
    "#                     PROPHET MODEL \n",
    "#             \n",
    "#                 ---------------------\n",
    "#                   SEBASTIAN SUWADA \n",
    "#                 ---------------------\n",
    "#\n",
    "\n",
    "import numpy as np \n",
    "import matplotlib.pyplot as plt\n",
    "import pandas as pd\n",
    "from prophet import Prophet"
   ]
  },
  {
   "cell_type": "markdown",
   "metadata": {},
   "source": [
    "PREPARE DATA - In case of Prohpet library - there is need to change name of columns for 'ds' and 'y' "
   ]
  },
  {
   "cell_type": "code",
   "execution_count": 2,
   "metadata": {},
   "outputs": [
    {
     "name": "stdout",
     "output_type": "stream",
     "text": [
      "y    float64\n",
      "dtype: object\n"
     ]
    }
   ],
   "source": [
    "def prepareData(filename):\n",
    "    df = pd.read_csv(filename, sep=';')\n",
    "    data_original = df[df['Category'] == 'Furniture'].copy()\n",
    "    data_original = data_original[['Order Date', 'Sales']].copy()\n",
    "    data_original = data_original.rename(columns={'Order Date': 'ds', 'Sales': 'y'})\n",
    "    data_original['ds'] = pd.to_datetime(data_original['ds'])\n",
    "    data_original = data_original.groupby('ds').sum().reset_index()\n",
    "    resampled = data_original.resample('MS', on='ds').mean()\n",
    "    print(resampled.dtypes)\n",
    "    return resampled\n",
    "\n",
    "\n",
    "## IMPORT DATA\n",
    "filename = r'/Users/sebastiansuwada/Desktop/Predictive Analytics/Project/Code/data.csv'\n",
    "orginalData = prepareData(filename)"
   ]
  },
  {
   "cell_type": "markdown",
   "metadata": {},
   "source": [
    "SPLIT DATA INTO - Training set 75% and evaluation set 25%"
   ]
  },
  {
   "cell_type": "code",
   "execution_count": 3,
   "metadata": {},
   "outputs": [],
   "source": [
    "def trainingDataPrepare(trainSize, data_temp):\n",
    "    data_temp = orginalData.copy()\n",
    "    trainData = pd.DataFrame()\n",
    "    testData = pd.DataFrame()\n",
    "    trainData['y']= data_temp[:int(trainSize*len(data_temp))]['y']\n",
    "    testData['y'] = data_temp[int(trainSize*len(data_temp)):]['y']\n",
    "    return trainData, testData\n",
    "\n",
    "## SPLIT DATA INTO TRAINING AND QUALITY CHECK DATA\n",
    "trainSize = 0.75\n",
    "trainData, testData = trainingDataPrepare(trainSize, orginalData)"
   ]
  },
  {
   "cell_type": "markdown",
   "metadata": {},
   "source": [
    "CREATE PROHPET MODEL #1 - Do not include holidays"
   ]
  },
  {
   "cell_type": "code",
   "execution_count": 5,
   "metadata": {},
   "outputs": [
    {
     "name": "stderr",
     "output_type": "stream",
     "text": [
      "16:21:20 - cmdstanpy - INFO - Chain [1] start processing\n"
     ]
    },
    {
     "name": "stdout",
     "output_type": "stream",
     "text": [
      "y    float64\n",
      "dtype: object\n"
     ]
    },
    {
     "name": "stderr",
     "output_type": "stream",
     "text": [
      "16:21:21 - cmdstanpy - INFO - Chain [1] done processing\n"
     ]
    },
    {
     "name": "stdout",
     "output_type": "stream",
     "text": [
      "                   yhat\n",
      "ds                     \n",
      "2014-01-01   634.139379\n",
      "2014-02-01   411.560915\n",
      "2014-03-01   731.723529\n",
      "2014-04-01   658.775020\n",
      "2014-05-01   531.948097\n",
      "2014-06-01   567.919547\n",
      "2014-07-01   647.180691\n",
      "2014-08-01   537.645672\n",
      "2014-09-01  1150.077155\n",
      "2014-10-01   640.895465\n",
      "2014-11-01  1135.764754\n",
      "2014-12-01  1260.527335\n",
      "2015-01-01   655.246845\n",
      "2015-02-01   414.914452\n",
      "2015-03-01   872.162343\n",
      "2015-04-01   751.928485\n",
      "2015-05-01   566.822141\n",
      "2015-06-01   520.765893\n",
      "2015-07-01   694.301793\n",
      "2015-08-01   553.810457\n",
      "2015-09-01  1283.359596\n",
      "2015-10-01   723.766611\n",
      "2015-11-01  1189.050191\n",
      "2015-12-01  1237.548814\n",
      "2016-01-01   677.266651\n",
      "2016-02-01   420.529229\n",
      "2016-03-01   644.261823\n",
      "2016-04-01   657.873741\n",
      "2016-05-01   645.444783\n",
      "2016-06-01   851.841733\n",
      "2016-07-01   748.033260\n",
      "2016-08-01   702.639163\n",
      "2016-09-01  1077.508953\n",
      "2016-10-01   662.146337\n",
      "2016-11-01  1213.230262\n",
      "2016-12-01  1494.345851\n",
      "2017-01-01   804.654418\n",
      "2017-02-01   601.207370\n",
      "2017-03-01   782.903869\n",
      "2017-04-01   754.584494\n",
      "2017-05-01   685.354019\n",
      "2017-06-01   805.507164\n",
      "2017-07-01   792.293340\n",
      "2017-08-01   714.448467\n",
      "2017-09-01  1208.613661\n",
      "2017-10-01   747.520330\n",
      "2017-11-01  1271.010936\n",
      "2017-12-01  1473.347878\n",
      "MSE for Prophet forecast 37992.42826076397\n",
      "RMSE for Prophet forecast 194.91646482727919\n",
      "MAPE for Prophet forecast 26.669618976837988\n"
     ]
    }
   ],
   "source": [
    "def evaluateForecastPrints(initial, forecast, name_):\n",
    "    initial_values = np.array(initial)\n",
    "    forecast_values = np.array(forecast)\n",
    "    # Mean Squared Error (MSE) and Mean Absolute Percentage Error (MAPE)\n",
    "    mse = np.mean((initial_values - forecast_values)**2)\n",
    "    mape = np.mean(np.abs((initial_values - forecast_values) / initial_values)) * 100\n",
    "    rmse = np.sqrt(mse)\n",
    "    print('MSE for '+str(name_)+' forecast '+str(mse))\n",
    "    print('RMSE for '+str(name_)+' forecast '+str(rmse))\n",
    "    print('MAPE for '+str(name_)+' forecast '+str(mape))\n",
    "\n",
    "def prophetModelFirst(trainData, testData, orginalData):\n",
    "    # Create a Prophet object and fit it to the data\n",
    "    print(trainData.dtypes)\n",
    "    \n",
    "    # Reset the index and assign it back to the DataFrame\n",
    "    trainData = trainData.reset_index()\n",
    "    \n",
    "    model = Prophet(yearly_seasonality=True)\n",
    "    model.fit(trainData)\n",
    "    furniture_forecast = model.make_future_dataframe(periods=12, freq='MS')\n",
    "    forecast = model.predict(furniture_forecast)\n",
    "\n",
    "    # Create dataFrame with things that interest us - predictions  \n",
    "    dfForecast = pd.DataFrame()\n",
    "    dfForecast['ds'] = forecast['ds']\n",
    "    dfForecast['yhat'] = forecast['yhat']\n",
    "    dfForecast = dfForecast.set_index('ds')\n",
    "    print(dfForecast)\n",
    "\n",
    "    evaluateForecastPrints(orginalData[36:48]['y'], dfForecast[36:48]['yhat'], 'Prophet')\n",
    "\n",
    "    return dfForecast\n",
    "\n",
    "## PROPHET MODELING without holidays\n",
    "prohpet1 = prophetModelFirst(trainData, testData, orginalData)"
   ]
  },
  {
   "cell_type": "markdown",
   "metadata": {},
   "source": [
    "CREATE PROPHET MODEL #2 - Include holidays"
   ]
  },
  {
   "cell_type": "code",
   "execution_count": 7,
   "metadata": {},
   "outputs": [
    {
     "name": "stderr",
     "output_type": "stream",
     "text": [
      "16:23:31 - cmdstanpy - INFO - Chain [1] start processing\n"
     ]
    },
    {
     "name": "stdout",
     "output_type": "stream",
     "text": [
      "y    float64\n",
      "dtype: object\n"
     ]
    },
    {
     "name": "stderr",
     "output_type": "stream",
     "text": [
      "16:23:32 - cmdstanpy - INFO - Chain [1] done processing\n"
     ]
    },
    {
     "name": "stdout",
     "output_type": "stream",
     "text": [
      "                   yhat\n",
      "ds                     \n",
      "2014-01-01   634.162041\n",
      "2014-02-01   411.722557\n",
      "2014-03-01   731.718443\n",
      "2014-04-01   658.769610\n",
      "2014-05-01   531.959701\n",
      "2014-06-01   567.961650\n",
      "2014-07-01   647.239171\n",
      "2014-08-01   537.738504\n",
      "2014-09-01  1150.148268\n",
      "2014-10-01   641.003482\n",
      "2014-11-01  1135.841780\n",
      "2014-12-01  1260.597215\n",
      "2015-01-01   655.209117\n",
      "2015-02-01   414.922430\n",
      "2015-03-01   871.952424\n",
      "2015-04-01   751.722176\n",
      "2015-05-01   566.669754\n",
      "2015-06-01   520.728891\n",
      "2015-07-01   694.319954\n",
      "2015-08-01   553.932239\n",
      "2015-09-01  1283.465863\n",
      "2015-10-01   723.937265\n",
      "2015-11-01  1189.178083\n",
      "2015-12-01  1237.612766\n",
      "2016-01-01   677.245453\n",
      "2016-02-01   420.354095\n",
      "2016-03-01   644.423069\n",
      "2016-04-01   658.043549\n",
      "2016-05-01   645.571097\n",
      "2016-06-01   851.833063\n",
      "2016-07-01   747.963581\n",
      "2016-08-01   702.461962\n",
      "2016-09-01  1077.291385\n",
      "2016-10-01   661.900038\n",
      "2016-11-01  1212.959436\n",
      "2016-12-01  1494.119702\n",
      "2017-01-01   611.317055\n",
      "2017-02-01   601.274951\n",
      "2017-03-01   782.876441\n",
      "2017-04-01   754.558422\n",
      "2017-05-01   685.312482\n",
      "2017-06-01   805.412638\n",
      "2017-07-01   792.176436\n",
      "2017-08-01   714.295507\n",
      "2017-09-01  1208.430693\n",
      "2017-10-01   747.343233\n",
      "2017-11-01  1270.808968\n",
      "2017-12-01  1473.175377\n",
      "MSE for Prophet forecast 27986.661108705313\n",
      "RMSE for Prophet forecast 167.29214299752786\n",
      "MAPE for Prophet forecast 22.620949506631558\n"
     ]
    }
   ],
   "source": [
    "def prophetModelSecond(trainData, testData, orginalData, holiday):\n",
    "    # Create a Prophet object and fit it to the data\n",
    "    print(trainData.dtypes)\n",
    "    \n",
    "    # Reset the index and assign it back to the DataFrame\n",
    "    trainData = trainData.reset_index()\n",
    "    \n",
    "    model = Prophet(yearly_seasonality = True, holidays = holiday)\n",
    "    model.fit(trainData)\n",
    "    furniture_forecast = model.make_future_dataframe(periods=12, freq='MS')\n",
    "    forecast = model.predict(furniture_forecast)\n",
    "\n",
    "    # Create dataFrame with things that interest us - predictions  \n",
    "    dfForecast = pd.DataFrame()\n",
    "    dfForecast['ds'] = forecast['ds']\n",
    "    dfForecast['yhat'] = forecast['yhat']\n",
    "    dfForecast = dfForecast.set_index('ds')\n",
    "    print(dfForecast)\n",
    "\n",
    "    evaluateForecastPrints(orginalData[36:48]['y'], dfForecast[36:48]['yhat'], 'Prophet')\n",
    "\n",
    "    return dfForecast\n",
    "\n",
    "## DEFINE HOLIDAY DAYS\n",
    "holidays = pd.DataFrame({\n",
    "    'holiday': 'new_year',\n",
    "    'ds': pd.to_datetime(['2014-01-01', '2015-01-01', '2016-01-01'])\n",
    "})\n",
    "\n",
    "## PROPHET MODELING with holidays\n",
    "prohpet2 = prophetModelSecond(trainData, testData, orginalData, holidays)"
   ]
  },
  {
   "cell_type": "markdown",
   "metadata": {},
   "source": [
    "Plot both Prophet models"
   ]
  },
  {
   "cell_type": "code",
   "execution_count": 10,
   "metadata": {},
   "outputs": [
    {
     "data": {
      "image/png": "[encoded data removed]",
      "text/plain": [
       "<Figure size 640x480 with 1 Axes>"
      ]
     },
     "metadata": {},
     "output_type": "display_data"
    }
   ],
   "source": [
    "## PLOT FORECASTS \n",
    "plt.plot(orginalData, color = 'blue', label = 'Orginal Data')\n",
    "plt.plot(prohpet1[36:48]['yhat'], color = 'green', label = 'Prohpet Model 1')\n",
    "plt.plot(prohpet2[36:48]['yhat'], color = 'red', label = 'Prohpet Model 2')\n",
    "plt.legend(loc='best')\n",
    "plt.xlabel('Date')\n",
    "plt.ylabel('Sales')\n",
    "plt.show()\n",
    "\n",
    "file_path = '/Users/sebastiansuwada/Desktop/Predictive Analytics/Project/Code/prophetCSV.csv'\n",
    "\n",
    "# Save the DataFrame to a new CSV file (this will create the file if it doesn't exist)\n",
    "prohpet2[36:48].to_csv(file_path, index=False)"
   ]
  }
 ],
 "metadata": {
  "kernelspec": {
   "display_name": "Python 3",
   "language": "python",
   "name": "python3"
  },
  "language_info": {
   "codemirror_mode": {
    "name": "ipython",
    "version": 3
   },
   "file_extension": ".py",
   "mimetype": "text/x-python",
   "name": "python",
   "nbconvert_exporter": "python",
   "pygments_lexer": "ipython3",
   "version": "3.10.13"
  }
 },
 "nbformat": 4,
 "nbformat_minor": 2
}
