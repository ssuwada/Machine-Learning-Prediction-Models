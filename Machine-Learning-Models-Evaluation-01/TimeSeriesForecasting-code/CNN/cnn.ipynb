{
 "cells": [
  {
   "cell_type": "markdown",
   "metadata": {},
   "source": [
    "IMPORT ALL"
   ]
  },
  {
   "cell_type": "code",
   "execution_count": 1,
   "metadata": {},
   "outputs": [
    {
     "name": "stderr",
     "output_type": "stream",
     "text": [
      "2024-01-03 16:26:45.430269: I tensorflow/core/platform/cpu_feature_guard.cc:182] This TensorFlow binary is optimized to use available CPU instructions in performance-critical operations.\n",
      "To enable the following instructions: AVX2 FMA, in other operations, rebuild TensorFlow with the appropriate compiler flags.\n"
     ]
    }
   ],
   "source": [
    "#   ---------  Project Forecast evaluation  ---------\n",
    "#                 CNN PREDICTION MODEL \n",
    "#             \n",
    "#                 ---------------------\n",
    "#                   SEBASTIAN SUWADA \n",
    "#                 ---------------------\n",
    "#\n",
    "\n",
    "\n",
    "import numpy as np \n",
    "import matplotlib.pyplot as plt\n",
    "import pandas as pd\n",
    "from sklearn.preprocessing import StandardScaler\n",
    "from keras.models import Sequential\n",
    "from keras.layers import Conv1D, MaxPooling1D, Flatten, Dense"
   ]
  },
  {
   "cell_type": "markdown",
   "metadata": {},
   "source": [
    "PREPARE DATA"
   ]
  },
  {
   "cell_type": "code",
   "execution_count": 2,
   "metadata": {},
   "outputs": [],
   "source": [
    "def prepareData(filename):\n",
    "    df = pd.read_csv(filename, sep=';')\n",
    "    data_orginal = df[df['Category'] == 'Furniture'].copy()\n",
    "    data_orginal = data_orginal[['Order Date','Sales']].set_index('Order Date')\n",
    "    data_orginal = data_orginal.groupby('Order Date').sum().reset_index()\n",
    "    data_orginal['Order Date'] = pd.to_datetime(data_orginal['Order Date'])\n",
    "    resampled = data_orginal.resample('MS', on='Order Date').mean()\n",
    "    return resampled\n",
    "\n",
    "\n",
    "## IMPORT DATA\n",
    "filename = '/Users/sebastiansuwada/Desktop/Predictive Analytics/Project/Code/data.csv'\n",
    "orginalData = prepareData(filename)"
   ]
  },
  {
   "cell_type": "markdown",
   "metadata": {},
   "source": [
    "TRANSFORM AND SCALE DATA - using sklearn and standard scaler "
   ]
  },
  {
   "cell_type": "code",
   "execution_count": 4,
   "metadata": {},
   "outputs": [],
   "source": [
    "\n",
    "def cnnModelPrepareData(df_):\n",
    "    ## Scalar initial data\n",
    "    # scaler = MinMaxScaler(feature_range=(-1,1))\n",
    "    scaler = StandardScaler()\n",
    "    df_cnn = scaler.fit_transform(df_)\n",
    "\n",
    "    timestep = 12\n",
    "\n",
    "    X = []\n",
    "    Y = []\n",
    "\n",
    "    for i in range(len(df_cnn) - (timestep)):\n",
    "        X.append(df_cnn[i:i+timestep])\n",
    "        Y.append(df_cnn[i+timestep])\n",
    "\n",
    "    X = np.array(X)\n",
    "    Y = np.array(Y)\n",
    "    \n",
    "    k = int((len(X)-3)*0.75)\n",
    "\n",
    "    X_train = X[:k]\n",
    "    Y_train = Y[:k]\n",
    "    X_test = X[k:]\n",
    "    Y_test = Y[k:]\n",
    "\n",
    "    return X_train, Y_train, X_test, Y_test, scaler\n",
    "\n",
    "## Transform and Scale data using sklearn library and Standard Scaler\n",
    "X_train, Y_train, X_test, Y_test, scaler = cnnModelPrepareData(orginalData)"
   ]
  },
  {
   "cell_type": "markdown",
   "metadata": {},
   "source": [
    "PERFORM CNN MODEL FORECAST - CNNModel functions estimates forecast for CNN, CNNEstimation takes 'num_forecasts' and make average of num_forecasts * "
   ]
  },
  {
   "cell_type": "code",
   "execution_count": 11,
   "metadata": {},
   "outputs": [
    {
     "name": "stdout",
     "output_type": "stream",
     "text": [
      "1/1 [==============================] - 0s 128ms/step\n",
      "Iteration 0 out of 10\n",
      "1/1 [==============================] - 0s 126ms/step\n",
      "Iteration 1 out of 10\n",
      "1/1 [==============================] - 0s 132ms/step\n",
      "Iteration 2 out of 10\n",
      "1/1 [==============================] - 0s 119ms/step\n",
      "Iteration 3 out of 10\n",
      "1/1 [==============================] - 0s 119ms/step\n",
      "Iteration 4 out of 10\n",
      "1/1 [==============================] - 0s 116ms/step\n",
      "Iteration 5 out of 10\n",
      "1/1 [==============================] - 0s 117ms/step\n",
      "Iteration 6 out of 10\n",
      "1/1 [==============================] - 0s 120ms/step\n",
      "Iteration 7 out of 10\n",
      "1/1 [==============================] - 0s 123ms/step\n",
      "Iteration 8 out of 10\n",
      "1/1 [==============================] - 0s 117ms/step\n",
      "Iteration 9 out of 10\n",
      "[[ 891.5586 ]\n",
      " [ 601.69574]\n",
      " [ 567.5966 ]\n",
      " [ 520.4494 ]\n",
      " [ 440.0561 ]\n",
      " [ 606.7939 ]\n",
      " [ 633.9237 ]\n",
      " [ 682.59924]\n",
      " [1277.8762 ]\n",
      " [ 648.55896]\n",
      " [1315.7412 ]\n",
      " [1260.4796 ]] 24.68567374876174 39562.35173471301 198.76169180312064\n"
     ]
    }
   ],
   "source": [
    "def evaluateForecast(initial, forecast):\n",
    "    initial_values = np.array(initial)\n",
    "    forecast_values = np.array(forecast)\n",
    "\n",
    "    # Mean Squared Error (MSE) and Mean Absolute Percentage Error (MAPE)\n",
    "    mse = np.mean((initial_values - forecast_values)**2)\n",
    "    mape = np.mean(np.abs((initial_values - forecast_values) / initial_values)) * 100\n",
    "    rmse = np.sqrt(mse)\n",
    "    return mse, mape, rmse\n",
    "\n",
    "def CNNModel(X_train, Y_train, X_test, Y_test, scaler):\n",
    "    # 1D CNN model\n",
    "    # \"In this study, a 1D CNN model is proposed which consists of 3 one-dimension\"\n",
    "    modelCNN = Sequential() \n",
    "    modelCNN.add(Conv1D(filters=128, kernel_size=2, activation='relu', input_shape=(12, 1)))\n",
    "    modelCNN.add(MaxPooling1D(pool_size=2))\n",
    "    modelCNN.add(Conv1D(filters=128, kernel_size=2, activation='relu'))\n",
    "    modelCNN.add(MaxPooling1D(pool_size=2))\n",
    "    modelCNN.add(Conv1D(filters=128, kernel_size=2, activation='relu'))\n",
    "\n",
    "    # modelCNN.add(MaxPooling1D(pool_size=2))\n",
    "    modelCNN.add(Flatten())\n",
    "    modelCNN.add(Dense(100, activation='relu'))\n",
    "    modelCNN.add(Dense(1))  # Number of neurons\n",
    "    modelCNN.compile(optimizer='adam', loss='mse')\n",
    "    modelCNN.fit(X_train, Y_train, epochs=200, verbose=0)\n",
    "    # modelCNN.summary()\n",
    "    \n",
    "    preds = modelCNN.predict(X_test)\n",
    "    preds = scaler.inverse_transform(preds)\n",
    "\n",
    "    Ytest = np.array(Y_test)  \n",
    "    Ytest = Ytest.reshape(-1,1) \n",
    "    Ytest = scaler.inverse_transform(Ytest)\n",
    "\n",
    "    mse, mape, rmse = evaluateForecast(Ytest, preds)\n",
    "\n",
    "    return preds, mape, mse, rmse \n",
    "\n",
    "def CNNestimation(num_forecasts, X_train, Y_train, X_test, Y_test, scaler):\n",
    "    # Loop to generate forecasts\n",
    "    all_forecasts = []\n",
    "    all_mape = []\n",
    "    all_mse = []\n",
    "    all_rmse = []\n",
    "\n",
    "    for i in range(num_forecasts):\n",
    "        preds, mape, mse, rmse  = CNNModel(X_train, Y_train, X_test, Y_test, scaler)\n",
    "        all_forecasts.append(preds)\n",
    "        all_mape.append(mape)\n",
    "        all_mse.append(mse)\n",
    "        all_rmse.append(rmse)\n",
    "\n",
    "        print('Iteration '+str(i)+' out of '+str(num_forecasts))\n",
    "    \n",
    "    average_forecast = np.mean(all_forecasts, axis=0)\n",
    "    average_mape = np.mean(all_mape, axis=0)\n",
    "    average_mse = np.mean(all_mse, axis=0)\n",
    "    average_rmse = np.mean(all_rmse, axis=0)\n",
    "\n",
    "    print(average_forecast, average_mape, average_mse, average_rmse)\n",
    "\n",
    "    return average_forecast, average_mape, average_mse, average_rmse\n",
    "\n",
    "\n",
    "num = 10\n",
    "average_forecastCNN, average_mape, average_mse, average_rmse = CNNestimation(num, X_train, Y_train, X_test, Y_test, scaler)\n",
    "\n",
    "file_path = '/Users/sebastiansuwada/Desktop/Predictive Analytics/Project/Code/CNNCSV.csv'\n",
    "\n",
    "# Save the DataFrame to a CSV file\n",
    "np.savetxt(file_path, average_forecastCNN, delimiter=',', fmt='%d')\n"
   ]
  },
  {
   "cell_type": "markdown",
   "metadata": {},
   "source": [
    "RESULTS: "
   ]
  },
  {
   "cell_type": "markdown",
   "metadata": {},
   "source": [
    "MAPE = 24.51\n",
    "MSE = 39837.79\n",
    "RMSE = 199.15\n",
    "\n",
    "THIS RESULTS WILL BE DIFFEREN ALL THE TIME! -> It will oscillate between 22-25 of MAPE error. "
   ]
  },
  {
   "cell_type": "markdown",
   "metadata": {},
   "source": [
    "PLOT CNN Prediction"
   ]
  },
  {
   "cell_type": "code",
   "execution_count": 13,
   "metadata": {},
   "outputs": [
    {
     "data": {
      "image/png": "[encoded data removed]",
      "text/plain": [
       "<Figure size 640x480 with 1 Axes>"
      ]
     },
     "metadata": {},
     "output_type": "display_data"
    }
   ],
   "source": [
    "df_plot = np.array(orginalData['Sales'])\n",
    "plt.plot(df_plot, label='Actual Data', color='blue')\n",
    "plt.plot(range(len(df_plot)-12, len(df_plot)), average_forecastCNN[-12:], 'r', label='CNN Prediction')\n",
    "plt.xlabel('Time')\n",
    "plt.ylabel('Sales')\n",
    "plt.title('CNN Forecast')\n",
    "plt.legend(loc='best')\n",
    "plt.show()"
   ]
  }
 ],
 "metadata": {
  "kernelspec": {
   "display_name": "Python 3",
   "language": "python",
   "name": "python3"
  },
  "language_info": {
   "codemirror_mode": {
    "name": "ipython",
    "version": 3
   },
   "file_extension": ".py",
   "mimetype": "text/x-python",
   "name": "python",
   "nbconvert_exporter": "python",
   "pygments_lexer": "ipython3",
   "version": "3.10.13"
  }
 },
 "nbformat": 4,
 "nbformat_minor": 2
}
