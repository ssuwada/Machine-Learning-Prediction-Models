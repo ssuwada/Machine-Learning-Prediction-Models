{
 "cells": [
  {
   "cell_type": "code",
   "execution_count": 1,
   "metadata": {},
   "outputs": [
    {
     "name": "stdout",
     "output_type": "stream",
     "text": [
      "<class 'pandas.core.frame.DataFrame'>\n",
      "RangeIndex: 25968 entries, 0 to 25967\n",
      "Data columns (total 1 columns):\n",
      " #   Column  Non-Null Count  Dtype  \n",
      "---  ------  --------------  -----  \n",
      " 0   price   25968 non-null  float64\n",
      "dtypes: float64(1)\n",
      "memory usage: 203.0 KB\n"
     ]
    }
   ],
   "source": [
    "import pandas as pd\n",
    "import numpy as np\n",
    "from scipy.optimize import minimize\n",
    "import numpy as np\n",
    "from numpy.linalg import lstsq as ldiv\n",
    "\n",
    "def import_data(filename):\n",
    "    df_ = pd.DataFrame()\n",
    "    d = np.loadtxt(filename)\n",
    "    df = pd.DataFrame(d, columns=['YYYYMMDD', 'HH', 'Zonal price', 'System load', 'Zonal load', 'Day of the week'])\n",
    "    df_['price'] = df['Zonal price']\n",
    "    return df_\n",
    "\n",
    "filename = '/Users/sebastiansuwada/Desktop/Predictive Analytics/Naive_probabilistic_forecasts_List_3/GEFCOM.txt'\n",
    "df = import_data(filename)\n",
    "df.info()"
   ]
  },
  {
   "cell_type": "markdown",
   "metadata": {},
   "source": [
    "Obtain Naive forecast for prepare of Point Forcast"
   ]
  },
  {
   "cell_type": "code",
   "execution_count": 53,
   "metadata": {},
   "outputs": [
    {
     "name": "stdout",
     "output_type": "stream",
     "text": [
      "        price\n",
      "0       34.64\n",
      "1       33.76\n",
      "2       33.08\n",
      "3       32.37\n",
      "4       34.66\n",
      "...       ...\n",
      "25961  113.92\n",
      "25962  107.26\n",
      "25963   89.02\n",
      "25964   85.40\n",
      "25965   86.13\n",
      "\n",
      "[25966 rows x 1 columns]\n"
     ]
    }
   ],
   "source": [
    "def quantreg(x, y, tau):\n",
    "    def rho(r):\n",
    "        temp = y - np.dot(x,r)\n",
    "        return np.sum(np.abs(temp - (temp < 0) * temp / tau))\n",
    "    pmean = ldiv(x, y, rcond=None)[0]\n",
    "    # return minimize(rho, pmean, method='SLSQP', options={'disp': False}).x\n",
    "    # return minimize(rho, pmean, method='SLSQP', tol=None, options={'maxiter': 25, 'disp': False}).x\n",
    "    # return minimize(rho, pmean, method='COBYLA', options={'disp': False}).x\n",
    "    # return minimize(rho, pmean, method='COBYLA', tol=None, options={'maxiter': 25, 'disp': False}).x\n",
    "    # return minimize(rho, pmean, method='TNC', options={'disp': False}).x\n",
    "    # return minimize(rho, pmean, method='TNC', tol=None, options={'maxiter': 25, 'disp': False}).x\n",
    "    return minimize(rho, pmean, method='TNC', tol=None, options={'maxiter': 10 * len(pmean), 'disp': False}).x\n",
    "    # return minimize(rho, pmean, method='L-BFGS-B', options={'disp': False}).x\n",
    "    # return minimize(rho, pmean, method='L-BFGS-B', tol=None, options={'maxiter': 25, 'disp': False}).x\n",
    "    # return minimize(rho, pmean, method='BFGS', options={'disp': False}).x\n",
    "    # return minimize(rho, pmean, method='BFGS', tol=None, options={'maxiter': 25, 'disp': False}).x\n",
    "    # return minimize(rho, pmean, method='CG', options={'disp': False}).x\n",
    "    # return minimize(rho, pmean, method='CG', tol=None, options={'maxiter': 25, 'disp': False}).x\n",
    "    # return minimize(rho, pmean, method='Powell', options={'disp': False}).x\n",
    "    # return minimize(rho, pmean, method='Powell', tol=None, options={'maxiter': 25, 'disp': False}).x\n",
    "    # return minimize(rho, pmean, method='Nelder-Mead', tol=None, options={'maxiter': 25, 'disp': False}).x\n",
    "    # return minimize(rho, pmean, method='Nelder-Mead', options={'disp': False}).x\n",
    "\n",
    "def CombinationNaiveForecast(df_1, shift1, shift2):\n",
    "\n",
    "    # P_w = (P_(w-1)+P_(w-3))/2\n",
    "    naiv1 = pd.DataFrame()\n",
    "    naiv1= df_1['price'].shift(shift1)\n",
    "    naiv2 = pd.DataFrame()\n",
    "    naiv2= df_1['price'].shift(shift2)\n",
    "    \n",
    "    naiv1 = naiv1.dropna()\n",
    "    naiv2 = naiv2.dropna()\n",
    "    naiv1.reset_index(drop=True, inplace=True)\n",
    "    naiv2.reset_index(drop=True, inplace=True)\n",
    "\n",
    "    min_size = min(len(naiv1), len(naiv2), len(df_1))\n",
    "    naiv1 = naiv1.tail(min_size)\n",
    "    naiv2 = naiv2.tail(min_size)\n",
    "    df_sized = df_1.tail(min_size).copy()\n",
    "\n",
    "    dfs = [naiv1, naiv2, df_sized]\n",
    "    for df in dfs:\n",
    "        df.reset_index(drop=True, inplace=True)\n",
    "\n",
    "    naivSum = pd.DataFrame()\n",
    "    naivSum['price'] = (naiv1 + naiv2)/2\n",
    "\n",
    "    return naivSum, df_sized\n",
    "\n",
    "shift1 = 2\n",
    "shift2 = 1\n",
    "df_sized, naivSum = CombinationNaiveForecast(df, shift1, shift2)\n",
    "print(naivSum)\n"
   ]
  },
  {
   "cell_type": "markdown",
   "metadata": {},
   "source": [
    "Now obtained point forecast can be used for Quantile Regression the dataFrame called naivSum now is our new data that we are going to work on"
   ]
  },
  {
   "cell_type": "code",
   "execution_count": 59,
   "metadata": {},
   "outputs": [
    {
     "name": "stderr",
     "output_type": "stream",
     "text": [
      "/var/folders/9y/v04s15s52qd3fng308vzntx40000gn/T/ipykernel_95078/3542992026.py:12: DeprecationWarning: 'maxiter' has been deprecated in favor of 'maxfun' and will be removed in SciPy 1.11.0.\n",
      "  return minimize(rho, pmean, method='TNC', tol=None, options={'maxiter': 10 * len(pmean), 'disp': False}).x\n"
     ]
    },
    {
     "name": "stdout",
     "output_type": "stream",
     "text": [
      "[10.7861988   0.73950868]\n",
      "[10.81537329  1.01252754]\n",
      "0.4256676440288454\n"
     ]
    }
   ],
   "source": [
    "def RegressionModel(df, T, pdReal):\n",
    "    quants = [0.25 ,0.75]\n",
    "    hits = []\n",
    "    real = pdReal['price'][T+T:].tolist()\n",
    "    Xf = df['price'][T+T:].to_numpy()\n",
    "\n",
    "    quant_forecast_upper = []\n",
    "    quant_forecast_lower = []\n",
    "    quant_forecast_temp = []\n",
    "\n",
    "    for q in quants:\n",
    "\n",
    "        # Prepare data for estimation of betas for each of \"q\" - quantile defined in quants table\n",
    "        Y = pdReal['price'][T:T+T]\n",
    "        X1 = df['price'][T:T+T]\n",
    "        X0 = np.ones(np.size(X1)) # Intersept\n",
    "        X = np.stack([X0,X1],axis = 1)\n",
    "\n",
    "        # Estimate the beta for each of quantile! We are iterating over each quantile -> \"q\" \n",
    "        # Using defined befor quantreg function that allows to estimate betas based on quantile\n",
    "        betas = quantreg(X, Y, q)\n",
    "\n",
    "        print(betas)\n",
    "\n",
    "        for val in range(2*T,len(df['price'])):\n",
    "            quant_forecast_temp.append(betas[0]+betas[1]*df['price'][val])\n",
    "\n",
    "\n",
    "    quant_forecast_upper = quant_forecast_temp[len(quant_forecast_temp)//2:]\n",
    "    quant_forecast_lower = quant_forecast_temp[:len(quant_forecast_temp)//2]\n",
    "\n",
    "    for day in range(0, len(quant_forecast_upper)):\n",
    "        if real[day] < quant_forecast_upper[day] and real[day] > quant_forecast_lower[day]:\n",
    "            hits.append(1)\n",
    "        else:\n",
    "            hits.append(0)\n",
    "\n",
    "    print(hits.count(1)/len(hits))\n",
    "    # print(hits)\n",
    "    # print(quant_forecast_upper)\n",
    "    # print(quant_forecast_lower)\n",
    "\n",
    "\n",
    "T = 364\n",
    "RegressionModel(naivSum, T, df)\n"
   ]
  }
 ],
 "metadata": {
  "kernelspec": {
   "display_name": "Python 3",
   "language": "python",
   "name": "python3"
  },
  "language_info": {
   "codemirror_mode": {
    "name": "ipython",
    "version": 3
   },
   "file_extension": ".py",
   "mimetype": "text/x-python",
   "name": "python",
   "nbconvert_exporter": "python",
   "pygments_lexer": "ipython3",
   "version": "3.10.13"
  }
 },
 "nbformat": 4,
 "nbformat_minor": 2
}
