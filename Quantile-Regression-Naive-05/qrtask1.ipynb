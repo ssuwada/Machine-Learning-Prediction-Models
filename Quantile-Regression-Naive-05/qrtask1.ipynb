{
 "cells": [
  {
   "cell_type": "code",
   "execution_count": 1,
   "metadata": {},
   "outputs": [
    {
     "name": "stdout",
     "output_type": "stream",
     "text": [
      "<class 'pandas.core.frame.DataFrame'>\n",
      "RangeIndex: 25968 entries, 0 to 25967\n",
      "Data columns (total 1 columns):\n",
      " #   Column  Non-Null Count  Dtype  \n",
      "---  ------  --------------  -----  \n",
      " 0   price   25968 non-null  float64\n",
      "dtypes: float64(1)\n",
      "memory usage: 203.0 KB\n"
     ]
    }
   ],
   "source": [
    "import pandas as pd\n",
    "import numpy as np\n",
    "\n",
    "def import_data(filename):\n",
    "    df_ = pd.DataFrame()\n",
    "    d = np.loadtxt(filename)\n",
    "    df = pd.DataFrame(d, columns=['YYYYMMDD', 'HH', 'Zonal price', 'System load', 'Zonal load', 'Day of the week'])\n",
    "    df_['price'] = df['Zonal price']\n",
    "    return df_\n",
    "\n",
    "filename = '/Users/sebastiansuwada/Desktop/Predictive Analytics/Naive_probabilistic_forecasts_List_3/GEFCOM.txt'\n",
    "df = import_data(filename)\n",
    "df.info()"
   ]
  },
  {
   "cell_type": "markdown",
   "metadata": {},
   "source": [
    "Obtain Naive forecast for prepare of Point Forcast"
   ]
  },
  {
   "cell_type": "code",
   "execution_count": 4,
   "metadata": {},
   "outputs": [
    {
     "name": "stdout",
     "output_type": "stream",
     "text": [
      "        price\n",
      "0       49.22\n",
      "1       42.69\n",
      "2       40.33\n",
      "3       39.81\n",
      "4       39.38\n",
      "...       ...\n",
      "25795  113.92\n",
      "25796  107.26\n",
      "25797   89.02\n",
      "25798   85.40\n",
      "25799   86.13\n",
      "\n",
      "[25800 rows x 1 columns]\n"
     ]
    }
   ],
   "source": [
    "def CombinationNaiveForecast(df_1, shift1, shift2):\n",
    "\n",
    "    # P_w = (P_(w-1)+P_(w-3))/2\n",
    "    naiv1 = pd.DataFrame()\n",
    "    naiv1= df_1['price'].shift(shift1)\n",
    "    naiv2 = pd.DataFrame()\n",
    "    naiv2= df_1['price'].shift(shift2)\n",
    "    \n",
    "    naiv1 = naiv1.dropna()\n",
    "    naiv2 = naiv2.dropna()\n",
    "    naiv1.reset_index(drop=True, inplace=True)\n",
    "    naiv2.reset_index(drop=True, inplace=True)\n",
    "\n",
    "    min_size = min(len(naiv1), len(naiv2), len(df_1))\n",
    "    naiv1 = naiv1.tail(min_size)\n",
    "    naiv2 = naiv2.tail(min_size)\n",
    "    df_sized = df_1.tail(min_size).copy()\n",
    "\n",
    "    dfs = [naiv1, naiv2, df_sized]\n",
    "    for df in dfs:\n",
    "        df.reset_index(drop=True, inplace=True)\n",
    "\n",
    "    naivSum = pd.DataFrame()\n",
    "    naivSum['price'] = (naiv1 + naiv2)/2\n",
    "\n",
    "    return naivSum, df_sized\n",
    "\n",
    "shift1 = 24\n",
    "shift2 = 168\n",
    "df_sized, naivSum = CombinationNaiveForecast(df, shift1, shift2)\n",
    "print(naivSum)\n"
   ]
  },
  {
   "cell_type": "markdown",
   "metadata": {},
   "source": [
    "Now obtained point forecast can be used for Quantile Regression the dataFrame called naivSum now is our new data that we are going to work on"
   ]
  },
  {
   "cell_type": "code",
   "execution_count": 49,
   "metadata": {},
   "outputs": [
    {
     "name": "stdout",
     "output_type": "stream",
     "text": [
      "<class 'pandas.core.series.Series'>\n",
      "RangeIndex: 12900 entries, 0 to 12899\n",
      "Series name: price\n",
      "Non-Null Count  Dtype  \n",
      "--------------  -----  \n",
      "12900 non-null  float64\n",
      "dtypes: float64(1)\n",
      "memory usage: 100.9 KB\n",
      "65.17862800353745\n",
      "29.18\n",
      "35.998628003537455\n"
     ]
    },
    {
     "ename": "NameError",
     "evalue": "name 'real' is not defined",
     "output_type": "error",
     "traceback": [
      "\u001b[0;31m---------------------------------------------------------------------------\u001b[0m",
      "\u001b[0;31mNameError\u001b[0m                                 Traceback (most recent call last)",
      "Cell \u001b[0;32mIn[49], line 73\u001b[0m\n\u001b[1;32m     70\u001b[0m naivSumTrain \u001b[38;5;241m=\u001b[39m naivSum[\u001b[38;5;124m'\u001b[39m\u001b[38;5;124mprice\u001b[39m\u001b[38;5;124m'\u001b[39m][:\u001b[38;5;28mint\u001b[39m(\u001b[38;5;28mlen\u001b[39m(naivSum)\u001b[38;5;241m/\u001b[39m\u001b[38;5;241m2\u001b[39m)]\n\u001b[1;32m     71\u001b[0m naivSumTrain\u001b[38;5;241m.\u001b[39minfo()\n\u001b[0;32m---> 73\u001b[0m \u001b[43mRegressionModel\u001b[49m\u001b[43m(\u001b[49m\u001b[43mnaivSum\u001b[49m\u001b[43m,\u001b[49m\u001b[43m \u001b[49m\u001b[38;5;241;43m0.95\u001b[39;49m\u001b[43m,\u001b[49m\u001b[43m \u001b[49m\u001b[38;5;241;43m0.5\u001b[39;49m\u001b[43m)\u001b[49m\n",
      "Cell \u001b[0;32mIn[49], line 42\u001b[0m, in \u001b[0;36mRegressionModel\u001b[0;34m(df, perc, coverage)\u001b[0m\n\u001b[1;32m     39\u001b[0m \u001b[38;5;28mprint\u001b[39m(err)\n\u001b[1;32m     41\u001b[0m \u001b[38;5;66;03m# Condition for choosing the error formula\u001b[39;00m\n\u001b[0;32m---> 42\u001b[0m \u001b[38;5;28;01mif\u001b[39;00m forecast \u001b[38;5;241m<\u001b[39m \u001b[43mreal\u001b[49m:\n\u001b[1;32m     43\u001b[0m     err \u001b[38;5;241m=\u001b[39m err \u001b[38;5;241m*\u001b[39m (\u001b[38;5;241m1\u001b[39m \u001b[38;5;241m-\u001b[39m perc)\n\u001b[1;32m     44\u001b[0m \u001b[38;5;28;01melse\u001b[39;00m:\n",
      "\u001b[0;31mNameError\u001b[0m: name 'real' is not defined"
     ]
    }
   ],
   "source": [
    "def RegressionModel(df, perc, coverage):\n",
    "    errors = []\n",
    "    T = 364\n",
    "\n",
    "    for h in range(24):\n",
    "\n",
    "        # Create list p_hour that includes 364 values for specyfic hours of point forecast defined from df\n",
    "        p_hour = df.loc[h::24, 'price'].values\n",
    "        cal_data = p_hour[:T]\n",
    "        day = p_hour[T:]\n",
    "        hits = []\n",
    "        realAfterCalibration = p_hour[T:]\n",
    "\n",
    "\n",
    "        Y = cal_data[1:]  # Y is the next day's prices\n",
    "        X1 = cal_data[:-1]  # X1 is today's prices\n",
    "\n",
    "        # Create a design matrix (X) with only X1\n",
    "        X = X1.reshape(-1, 1)\n",
    "\n",
    "        # Estimate the beta\n",
    "        beta = np.dot(np.linalg.inv(np.dot(X.T, X)), np.dot(X.T, Y))\n",
    "\n",
    "        # Create list \"forecasts\" what consists all of values for specyfic hours with window defined as T \n",
    "        # Created based on point forecast\n",
    "        forecasts = []\n",
    "        for x in day:\n",
    "            X_fut = np.array([x]).reshape(-1, 1)\n",
    "            forecast = np.dot(X_fut, beta)\n",
    "            forecasts.append(forecast[0])\n",
    "\n",
    "\n",
    "        for day in range(0, len(realAfterCalibration)):\n",
    "\n",
    "            # Calculate the error\n",
    "            err = forecast[day] - realAfterCalibration[day]\n",
    "            print(forecast[day])\n",
    "            print(realAfterCalibration[day])\n",
    "            print(err)\n",
    "\n",
    "            # Condition for choosing the error formula\n",
    "            if forecast < real:\n",
    "                err = err * (1 - perc)\n",
    "            else:\n",
    "                err = err * perc\n",
    "\n",
    "            print(err)\n",
    "\n",
    "            quants = np.quantile(err, [(1-coverage)/2, (1+coverage)/2])\n",
    "            print(quants)\n",
    "            low_PI = forecast - abs(quants[0])\n",
    "            up_PI = forecast + abs(quants[1])\n",
    "\n",
    "            print(up_PI)\n",
    "            print(low_PI)\n",
    "            print(real)\n",
    "\n",
    "            if real < up_PI and real > low_PI:\n",
    "                hits.append(1)\n",
    "            else:\n",
    "                hits.append(0)\n",
    "\n",
    "    print(len(hits))\n",
    "\n",
    "            # Jak mamy error jak różnicę to zapisujemy\n",
    "\n",
    "\n",
    "# Split data into half\n",
    "\n",
    "naivSumTrain = naivSum['price'][:int(len(naivSum)/2)]\n",
    "naivSumTrain.info()\n",
    "\n",
    "RegressionModel(naivSum, 0.95, 0.5)\n"
   ]
  }
 ],
 "metadata": {
  "kernelspec": {
   "display_name": "Python 3",
   "language": "python",
   "name": "python3"
  },
  "language_info": {
   "codemirror_mode": {
    "name": "ipython",
    "version": 3
   },
   "file_extension": ".py",
   "mimetype": "text/x-python",
   "name": "python",
   "nbconvert_exporter": "python",
   "pygments_lexer": "ipython3",
   "version": "3.10.13"
  }
 },
 "nbformat": 4,
 "nbformat_minor": 2
}
